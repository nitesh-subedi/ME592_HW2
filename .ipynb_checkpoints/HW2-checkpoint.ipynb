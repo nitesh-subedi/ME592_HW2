{
 "cells": [
  {
   "cell_type": "code",
   "execution_count": null,
   "id": "46f0d242-22b2-4200-ae49-246a80a28b70",
   "metadata": {},
   "outputs": [],
   "source": [
    "import os\n",
    "import glob\n",
    "import cv2\n",
    "from PIL import Image\n",
    "import numpy as np\n",
    "\n",
    "# Define the root directory\n",
    "root_dir = \"data\"\n",
    "\n",
    "# Initialize lists for storing data\n",
    "png_images = {}     \n",
    "tiff_images = {}\n",
    "cneg_files = {}\n",
    "cpos_files = {}\n",
    "pcd_files = {}\n",
    "\n",
    "# Loop through folders 01 to 10\n",
    "for i in range(1, 11):\n",
    "    folder = os.path.join(root_dir, f\"{i:02d}\")  # Format 01, 02, ..., 10\n",
    "\n",
    "    # Load TIFF and PNG images\n",
    "    rgb_image_files = glob.glob(os.path.join(folder, \"*.png\"))\n",
    "    rgb_image_files.sort()\n",
    "    tiff_image_files = glob.glob(os.path.join(folder, \"*.tiff\"))\n",
    "    tiff_image_files.sort()\n",
    "    for rgb_img_path, tiff_img_path in zip(rgb_image_files, tiff_image_files):\n",
    "        try:\n",
    "            png_images[os.path.basename(rgb_img_path)] = Image.open(rgb_img_path)  # Using PIL\n",
    "            tiff_images[os.path.basename(tiff_img_path)] = Image.open(tiff_img_path)  # Using PIL\n",
    "        except Exception as e:\n",
    "            print(f\"Error loading image {img_path}: {e}\")\n",
    "\n",
    "    # Load TXT files\n",
    "    all_txt_files = glob.glob(os.path.join(folder, \"*.txt\"))\n",
    "    all_txt_files.sort()\n",
    "    for txt_path in all_txt_files:\n",
    "        file_name = os.path.basename(txt_path)\n",
    "        with open(txt_path, \"r\") as file:\n",
    "            if \"cneg\" in file_name:\n",
    "                cneg_files[file_name] = np.loadtxt(file)\n",
    "            elif \"cpos\" in file_name:\n",
    "                cpos_files[file_name] = np.loadtxt(file)\n",
    "            else:\n",
    "                pcd_files[file_name] = txt_path\n"
   ]
  },
  {
   "cell_type": "code",
   "execution_count": null,
   "id": "1ecce578-7a55-49f5-8556-e45fa5524dae",
   "metadata": {},
   "outputs": [],
   "source": [
    "# Print sample outputs\n",
    "print(f\"Total rgb images loaded: {len(png_images)}\")\n",
    "print(f\"Total tiff images loaded: {len(tiff_images)}\")\n",
    "print(f\"Total cneg_files loaded: {len(cneg_files)}\")\n",
    "print(f\"Total cpos_files loaded: {len(cpos_files)}\")"
   ]
  },
  {
   "cell_type": "code",
   "execution_count": null,
   "id": "f5dbbcab-b253-4a57-8a60-1b098d757ac6",
   "metadata": {},
   "outputs": [],
   "source": [
    "cnegs = list(cneg_files.values())\n",
    "cposs = list(cpos_files.values())\n",
    "png_images_list = list(png_images.values())"
   ]
  },
  {
   "cell_type": "code",
   "execution_count": null,
   "id": "b1032c10-4245-4dfa-9ac2-626476df8de6",
   "metadata": {},
   "outputs": [],
   "source": [
    "png_images_names = list(png_images.keys())"
   ]
  },
  {
   "cell_type": "code",
   "execution_count": null,
   "id": "2c333808-962f-45dc-a85f-d273d9a6b5ef",
   "metadata": {},
   "outputs": [],
   "source": [
    "import os\n",
    "import cv2\n",
    "import numpy as np\n",
    "\n",
    "\n",
    "output_folder = 'output_images/with_bboxes'\n",
    "os.makedirs(output_folder, exist_ok=True)\n",
    "\n",
    "for i, (cneg, cpos) in enumerate(zip(cnegs, cposs)):\n",
    "    image_overlay = np.array(png_images_list[i])\n",
    "    \n",
    "    # Process cneg (negative bounding boxes)\n",
    "    for j in range(int(len(cneg)/4)):\n",
    "        rect = cneg[j*4:(j+1)*4]\n",
    "        pts = np.array(rect, np.int32)\n",
    "        pts = pts.reshape((-1, 1, 2))\n",
    "        cv2.polylines(image_overlay, [pts], isClosed=True, color=(255, 0, 0), thickness=2)\n",
    "\n",
    "    # Process cpos (positive bounding boxes)\n",
    "    for j in range(int(len(cpos)/4)):\n",
    "        rect = cpos[j*4:(j+1)*4]\n",
    "        pts = np.array(rect, np.int32)\n",
    "        pts = pts.reshape((-1, 1, 2))\n",
    "        cv2.polylines(image_overlay, [pts], isClosed=True, color=(0, 255, 0), thickness=2)\n",
    "\n",
    "    # Save the image to the output folder\n",
    "    output_path = os.path.join(output_folder, png_images_names[i])\n",
    "    cv2.imwrite(output_path, image_overlay)\n"
   ]
  },
  {
   "cell_type": "code",
   "execution_count": null,
   "id": "40dd5df3-7084-45a8-8d62-6b19d5968d46",
   "metadata": {},
   "outputs": [],
   "source": [
    "import argparse\n",
    "import glob\n",
    "import os\n",
    "import numpy as np\n",
    "from imageio import imsave\n",
    "from depth_image import DepthImage\n",
    "\n",
    "pcds = list(pcd_files.values())\n",
    "\n",
    "for pcd in pcds:\n",
    "    di = DepthImage.from_pcd(pcd, (480, 640))\n",
    "    di.inpaint()\n",
    "\n",
    "    of_name = pcd.replace('.txt', 'd.tiff')\n",
    "    imsave(of_name, di.img.astype(np.float32))"
   ]
  },
  {
   "cell_type": "code",
   "execution_count": null,
   "id": "c7429264-e1b7-463a-a357-334c2bcc1714",
   "metadata": {},
   "outputs": [],
   "source": [
    "# Loop through folders 01 to 10\n",
    "tiff_images = {}\n",
    "for i in range(1, 11):\n",
    "    folder = os.path.join(root_dir, f\"{i:02d}\")  # Format 01, 02, ..., 10\n",
    "    tiff_image_files = glob.glob(os.path.join(folder, \"*.tiff\"))\n",
    "    tiff_image_files.sort()\n",
    "    for tiff_img_path in tiff_image_files:\n",
    "        try:\n",
    "            tiff_images[os.path.basename(tiff_img_path)] = Image.open(tiff_img_path)  # Using PIL\n",
    "        except Exception as e:\n",
    "            print(f\"Error loading image {img_path}: {e}\")"
   ]
  },
  {
   "cell_type": "code",
   "execution_count": null,
   "id": "c76a6262-c59c-4cc6-a7f5-dee711235e92",
   "metadata": {},
   "outputs": [],
   "source": [
    "tiff_images_list = list(tiff_images.values())"
   ]
  },
  {
   "cell_type": "code",
   "execution_count": null,
   "id": "5308d6ab-57ab-4560-92b8-9d34c56f1f98",
   "metadata": {},
   "outputs": [],
   "source": [
    "tiff_images_names = list(tiff_images.keys())"
   ]
  },
  {
   "cell_type": "code",
   "execution_count": null,
   "id": "d4433260-e4e1-4b45-80db-aa96114661c8",
   "metadata": {},
   "outputs": [],
   "source": [
    "output_folder = \"output_images/rgbd/\"\n",
    "os.makedirs(output_folder, exist_ok=True)\n",
    "for rgb_img, depth_img, name in zip(png_images_list, tiff_images_list, tiff_images_names):\n",
    "    # Convert RGB image to a NumPy array\n",
    "    rgb_array = np.array(rgb_img)\n",
    "    \n",
    "    # Convert depth image to NumPy array (float32)\n",
    "    depth_array = np.array(depth_img, dtype=np.float32)\n",
    "    \n",
    "    depth_array = cv2.normalize(depth_array, None, 0, 255, cv2.NORM_MINMAX)\n",
    "    depth_array = depth_array.astype(np.uint8)\n",
    "    depth_array = np.expand_dims(depth_array, axis=-1)\n",
    "    \n",
    "    # Stack RGB image and depth image to form RGB-D image (4 channels)\n",
    "    rgbd_image = np.concatenate((rgb_array, depth_array), axis=2)\n",
    "    # Convert back to PIL Image (for saving)\n",
    "    rgbd_image_pil = Image.fromarray(rgbd_image)\n",
    "    rgbd_image_pil.save(output_folder+name.replace(\"d.tiff\", \"rgbd.png\"))"
   ]
  },
  {
   "cell_type": "code",
   "execution_count": null,
   "id": "5b701a65-63ea-4708-8aa4-36b7ab63978a",
   "metadata": {},
   "outputs": [],
   "source": [
    "import matplotlib.pyplot as plt"
   ]
  },
  {
   "cell_type": "code",
   "execution_count": null,
   "id": "3a28b6f4-e168-42bc-9563-3c585344107e",
   "metadata": {},
   "outputs": [],
   "source": [
    "rgbd_folder = 'output_images/rgbd'\n",
    "mask_folder = 'output_images/masks'\n",
    "os.makedirs(mask_folder, exist_ok=True)\n",
    "\n",
    "rgbd_images = glob.glob(os.path.join(rgbd_folder, \"*.png\"))\n",
    "rgbd_images.sort()\n",
    "for i, cpos in enumerate(cposs):\n",
    "    image_overlay = np.array(Image.open(rgbd_images[i]))\n",
    "    print(image_overlay.shape)\n",
    "    zero_image = np.zeros_like(image_overlay)\n",
    "\n",
    "    # Create a blank mask\n",
    "    mask = np.zeros_like(image_overlay[:, :, 0])  # Single channel mask\n",
    "\n",
    "    # Process cpos (positive bounding boxes)\n",
    "    for j in range(int(len(cpos) / 4)):\n",
    "        rect = cpos[j * 4:(j + 1) * 4]\n",
    "        pts = np.array(rect, np.int32).reshape((-1, 1, 2))\n",
    "\n",
    "        # Fill the polygon with white in the mask\n",
    "        cv2.fillPoly(mask, [pts], 255)\n",
    "\n",
    "    # Apply the mask to keep only the selected regions\n",
    "    result = cv2.bitwise_and(image_overlay, image_overlay, mask=mask)\n",
    "    # Save the image to the output folder\n",
    "    output_path = os.path.join(mask_folder, png_images_names[i])\n",
    "    cv2.imwrite(output_path, result)\n",
    "    \n",
    "print(f\"images saved in {output_path}\")\n",
    "plt.imshow(result)"
   ]
  },
  {
   "cell_type": "code",
   "execution_count": null,
   "id": "a04c5b10-8181-47eb-bf46-dc05b58da7d4",
   "metadata": {},
   "outputs": [],
   "source": [
    "masks_folder = 'output_images/masks'\n",
    "yuv_folder = 'output_images/yuv'\n",
    "depth_image_of_cpos = 'output_images/cpos_mask'\n",
    "os.makedirs(yuv_folder, exist_ok=True)\n",
    "os.makedirs(depth_image_of_cpos, exist_ok=True)"
   ]
  },
  {
   "cell_type": "code",
   "execution_count": null,
   "id": "cf98fb64-b790-42e7-b835-a6a9386e3730",
   "metadata": {},
   "outputs": [],
   "source": [
    "masks_image_files = glob.glob(os.path.join(masks_folder, \"*.png\"))\n",
    "masks_image_files.sort()"
   ]
  },
  {
   "cell_type": "code",
   "execution_count": null,
   "id": "e1545c22-44c4-4f4f-8c56-7a397304ec95",
   "metadata": {},
   "outputs": [],
   "source": [
    "for i, mask_image in enumerate(masks_image_files):\n",
    "    image = np.array(Image.open(mask_image))\n",
    "    yuv_image = cv2.cvtColor(image[:, :, :3], cv2.COLOR_RGB2YUV)\n",
    "    depth_image_of_mask = image[:, :, 3]\n",
    "    name = os.path.join(yuv_folder, png_images_names[i])\n",
    "    cv2.imwrite(name, yuv_image)\n",
    "    name = os.path.join(depth_image_of_cpos, png_images_names[i])\n",
    "    cv2.imwrite(name, depth_image_of_mask)\n",
    "plt.imshow(yuv_image)"
   ]
  },
  {
   "cell_type": "code",
   "execution_count": null,
   "id": "6af75133-44e0-4d77-b796-d5a19ce0c4f7",
   "metadata": {},
   "outputs": [],
   "source": [
    "plt.imshow(depth_image_of_mask)"
   ]
  },
  {
   "cell_type": "code",
   "execution_count": null,
   "id": "70afe6aa-b994-4c82-a6c9-8f3fd7e8234a",
   "metadata": {},
   "outputs": [],
   "source": [
    "!pip install scikit-learn"
   ]
  },
  {
   "cell_type": "code",
   "execution_count": null,
   "id": "d1d937d3-e10b-4769-90b6-a3b16dc9b19d",
   "metadata": {},
   "outputs": [],
   "source": [
    "from sklearn.decomposition import PCA\n",
    "pca = PCA(whiten=True)"
   ]
  },
  {
   "cell_type": "code",
   "execution_count": null,
   "id": "594ab046-afd1-4916-b436-6a2188177148",
   "metadata": {},
   "outputs": [],
   "source": [
    "depth_image_of_cpos = 'output_images/cpos_mask'\n",
    "pca_depth_path = \"output_images/cpos_pca_depth\"\n",
    "os.makedirs(pca_depth_path, exist_ok=True)"
   ]
  },
  {
   "cell_type": "code",
   "execution_count": null,
   "id": "df39f332-552f-417e-9ae9-3b8bc2c30f96",
   "metadata": {},
   "outputs": [],
   "source": [
    "c_pos_depths = glob.glob(os.path.join(depth_image_of_cpos, \"*.png\"))\n",
    "c_pos_depths.sort()"
   ]
  },
  {
   "cell_type": "code",
   "execution_count": null,
   "id": "bd658930-893b-4847-be92-78ad61ef50fd",
   "metadata": {},
   "outputs": [],
   "source": [
    "for i, c_pos_depth in enumerate(c_pos_depths):\n",
    "    c_pos_depth = np.array(Image.open(c_pos_depth))\n",
    "    depth_flat = c_pos_depth.flatten().reshape(-1,1)\n",
    "    depth_whitened = pca.fit_transform(depth_flat)\n",
    "    depth_whitened_image = depth_whitened.reshape(c_pos_depth.shape)\n",
    "    name = os.path.join(pca_depth_path, png_images_names[i])\n",
    "    cv2.imwrite(name, depth_whitened_image)\n",
    "plt.imshow(depth_whitened_image)"
   ]
  },
  {
   "cell_type": "code",
   "execution_count": null,
   "id": "b10fdf1e-43e8-4c0c-93bb-5e60d58e9363",
   "metadata": {},
   "outputs": [],
   "source": [
    "norma = (depth_whitened_image - depth_whitened_image.min()) / (depth_whitened_image.max() - depth_whitened_image.min()) * 255"
   ]
  },
  {
   "cell_type": "code",
   "execution_count": null,
   "id": "e5defbf2-b124-4290-975a-49c237ecb1e1",
   "metadata": {},
   "outputs": [],
   "source": [
    "plt.imshow(norma)"
   ]
  },
  {
   "cell_type": "code",
   "execution_count": null,
   "id": "9f91fd62-d667-4b4e-b980-1c6f59fe5f2e",
   "metadata": {},
   "outputs": [],
   "source": [
    "!pip install open3d"
   ]
  },
  {
   "cell_type": "code",
   "execution_count": null,
   "id": "e1ae059b-819b-41c5-885e-41811c7d2a23",
   "metadata": {},
   "outputs": [],
   "source": []
  },
  {
   "cell_type": "code",
   "execution_count": 68,
   "id": "22f0ce99-8c65-4e8e-84be-556b41fb852a",
   "metadata": {},
   "outputs": [],
   "source": [
    "with open(pcds[0], 'r') as f:\n",
    "    # Skip header lines until 'DATA ascii'\n",
    "    for line in f:\n",
    "        if line.startswith('DATA ascii'):\n",
    "            break\n",
    "\n",
    "    # Read the numerical point cloud data\n",
    "    pcd = np.loadtxt(f)"
   ]
  },
  {
   "cell_type": "code",
   "execution_count": 70,
   "id": "19a30c47-14b4-491a-872d-d8f320dd8793",
   "metadata": {},
   "outputs": [
    {
     "name": "stdout",
     "output_type": "stream",
     "text": [
      "Jupyter environment detected. Enabling Open3D WebVisualizer.\n",
      "[Open3D INFO] WebRTC GUI backend enabled.\n",
      "[Open3D INFO] WebRTCWindowSystem: HTTP handshake server disabled.\n"
     ]
    },
    {
     "ename": "RuntimeError",
     "evalue": "",
     "output_type": "error",
     "traceback": [
      "\u001b[0;31m---------------------------------------------------------------------------\u001b[0m",
      "\u001b[0;31mRuntimeError\u001b[0m                              Traceback (most recent call last)",
      "Cell \u001b[0;32mIn[70], line 4\u001b[0m\n\u001b[1;32m      1\u001b[0m \u001b[38;5;28;01mimport\u001b[39;00m \u001b[38;5;21;01mopen3d\u001b[39;00m \u001b[38;5;28;01mas\u001b[39;00m \u001b[38;5;21;01mo3d\u001b[39;00m\n\u001b[1;32m      3\u001b[0m cld \u001b[38;5;241m=\u001b[39m o3d\u001b[38;5;241m.\u001b[39mgeometry\u001b[38;5;241m.\u001b[39mPointCloud()\n\u001b[0;32m----> 4\u001b[0m cld\u001b[38;5;241m.\u001b[39mpoints \u001b[38;5;241m=\u001b[39m \u001b[43mo3d\u001b[49m\u001b[38;5;241;43m.\u001b[39;49m\u001b[43mutility\u001b[49m\u001b[38;5;241;43m.\u001b[39;49m\u001b[43mVector3dVector\u001b[49m\u001b[43m(\u001b[49m\u001b[43mpcd\u001b[49m\u001b[43m)\u001b[49m\n\u001b[1;32m      6\u001b[0m \u001b[38;5;66;03m# Visualize the point cloud\u001b[39;00m\n\u001b[1;32m      7\u001b[0m o3d\u001b[38;5;241m.\u001b[39mvisualization\u001b[38;5;241m.\u001b[39mdraw_plotly([cld])\n",
      "\u001b[0;31mRuntimeError\u001b[0m: "
     ]
    }
   ],
   "source": [
    "import open3d as o3d\n",
    "\n",
    "cld = o3d.geometry.PointCloud()\n",
    "cld.points = o3d.utility.Vector3dVector(pcd)\n",
    "\n",
    "# Visualize the point cloud\n",
    "o3d.visualization.draw_plotly([cld])"
   ]
  },
  {
   "cell_type": "code",
   "execution_count": null,
   "id": "87668242-9c09-49da-8bb0-26ff803ac9b7",
   "metadata": {},
   "outputs": [],
   "source": []
  }
 ],
 "metadata": {
  "kernelspec": {
   "display_name": "me592",
   "language": "python",
   "name": "me592"
  },
  "language_info": {
   "codemirror_mode": {
    "name": "ipython",
    "version": 3
   },
   "file_extension": ".py",
   "mimetype": "text/x-python",
   "name": "python",
   "nbconvert_exporter": "python",
   "pygments_lexer": "ipython3",
   "version": "3.10.16"
  }
 },
 "nbformat": 4,
 "nbformat_minor": 5
}
