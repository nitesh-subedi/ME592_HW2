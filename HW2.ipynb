{
 "cells": [
  {
   "cell_type": "code",
   "execution_count": 2,
   "id": "46f0d242-22b2-4200-ae49-246a80a28b70",
   "metadata": {},
   "outputs": [
    {
     "name": "stderr",
     "output_type": "stream",
     "text": [
      "/tmp/ipykernel_37685/1998358913.py:40: UserWarning: loadtxt: input contained no data: \"<_io.TextIOWrapper name='data/01/pcd0154cneg.txt' mode='r' encoding='UTF-8'>\"\n",
      "  cneg_files[file_name] = np.loadtxt(file)\n"
     ]
    }
   ],
   "source": [
    "import os\n",
    "import glob\n",
    "import cv2\n",
    "from PIL import Image\n",
    "import numpy as np\n",
    "\n",
    "# Define the root directory\n",
    "root_dir = \"data\"\n",
    "\n",
    "# Initialize lists for storing data\n",
    "png_images = {}     \n",
    "tiff_images = {}\n",
    "cneg_files = {}\n",
    "cpos_files = {}\n",
    "pcd_files = {}\n",
    "\n",
    "# Loop through folders 01 to 10\n",
    "for i in range(1, 11):\n",
    "    folder = os.path.join(root_dir, f\"{i:02d}\")  # Format 01, 02, ..., 10\n",
    "\n",
    "    # Load TIFF and PNG images\n",
    "    rgb_image_files = glob.glob(os.path.join(folder, \"*.png\"))\n",
    "    rgb_image_files.sort()\n",
    "    tiff_image_files = glob.glob(os.path.join(folder, \"*.tiff\"))\n",
    "    tiff_image_files.sort()\n",
    "    for rgb_img_path, tiff_img_path in zip(rgb_image_files, tiff_image_files):\n",
    "        try:\n",
    "            png_images[os.path.basename(rgb_img_path)] = Image.open(rgb_img_path)  # Using PIL\n",
    "            tiff_images[os.path.basename(tiff_img_path)] = Image.open(tiff_img_path)  # Using PIL\n",
    "        except Exception as e:\n",
    "            print(f\"Error loading image {img_path}: {e}\")\n",
    "\n",
    "    # Load TXT files\n",
    "    all_txt_files = glob.glob(os.path.join(folder, \"*.txt\"))\n",
    "    all_txt_files.sort()\n",
    "    for txt_path in all_txt_files:\n",
    "        file_name = os.path.basename(txt_path)\n",
    "        with open(txt_path, \"r\") as file:\n",
    "            if \"cneg\" in file_name:\n",
    "                cneg_files[file_name] = np.loadtxt(file)\n",
    "            elif \"cpos\" in file_name:\n",
    "                cpos_files[file_name] = np.loadtxt(file)\n",
    "            else:\n",
    "                pcd_files[file_name] = txt_path\n"
   ]
  },
  {
   "cell_type": "code",
   "execution_count": null,
   "id": "1ecce578-7a55-49f5-8556-e45fa5524dae",
   "metadata": {},
   "outputs": [],
   "source": [
    "# Print sample outputs\n",
    "print(f\"Total rgb images loaded: {len(png_images)}\")\n",
    "print(f\"Total tiff images loaded: {len(tiff_images)}\")\n",
    "print(f\"Total cneg_files loaded: {len(cneg_files)}\")\n",
    "print(f\"Total cpos_files loaded: {len(cpos_files)}\")"
   ]
  },
  {
   "cell_type": "code",
   "execution_count": 3,
   "id": "f5dbbcab-b253-4a57-8a60-1b098d757ac6",
   "metadata": {},
   "outputs": [],
   "source": [
    "cnegs = list(cneg_files.values())\n",
    "cposs = list(cpos_files.values())\n",
    "png_images_list = list(png_images.values())"
   ]
  },
  {
   "cell_type": "code",
   "execution_count": 4,
   "id": "b1032c10-4245-4dfa-9ac2-626476df8de6",
   "metadata": {},
   "outputs": [],
   "source": [
    "png_images_names = list(png_images.keys())"
   ]
  },
  {
   "cell_type": "code",
   "execution_count": null,
   "id": "7aca1072-e3ac-48fe-841b-378fa95d9b43",
   "metadata": {},
   "outputs": [],
   "source": [
    "for i, cneg in enumerate(cnegs):\n",
    "    image_overlay = np.array(png_images[i])\n",
    "    for j in range(int(len(cneg)/4)):\n",
    "        rect = cneg[j*4:(j+1)*4]\n",
    "        pts = np.array(rect, np.int32)\n",
    "        pts = pts.reshape((-1, 1, 2))\n",
    "        cv2.polylines(image_overlay, [pts], isClosed=True, color=(255, 0, 0), thickness=2)\n",
    "\n",
    "for i, cpos in enumerate(cposs):\n",
    "    # image_overlay = np.array(png_images[i])\n",
    "    for j in range(int(len(cpos)/4)):\n",
    "        rect = cpos[j*4:(j+1)*4]\n",
    "        pts = np.array(rect, np.int32)\n",
    "        pts = pts.reshape((-1, 1, 2))\n",
    "        cv2.polylines(image_overlay, [pts], isClosed=True, color=(0, 255, 0), thickness=2)\n"
   ]
  },
  {
   "cell_type": "code",
   "execution_count": null,
   "id": "2c333808-962f-45dc-a85f-d273d9a6b5ef",
   "metadata": {},
   "outputs": [],
   "source": [
    "import os\n",
    "import cv2\n",
    "import numpy as np\n",
    "\n",
    "\n",
    "output_folder = 'output_images/with_bboxes'\n",
    "os.makedirs(output_folder, exist_ok=True)\n",
    "\n",
    "for i, (cneg, cpos) in enumerate(zip(cnegs, cposs)):\n",
    "    image_overlay = np.array(png_images_list[i])\n",
    "    \n",
    "    # Process cneg (negative bounding boxes)\n",
    "    for j in range(int(len(cneg)/4)):\n",
    "        rect = cneg[j*4:(j+1)*4]\n",
    "        pts = np.array(rect, np.int32)\n",
    "        pts = pts.reshape((-1, 1, 2))\n",
    "        cv2.polylines(image_overlay, [pts], isClosed=True, color=(255, 0, 0), thickness=2)\n",
    "\n",
    "    # Process cpos (positive bounding boxes)\n",
    "    for j in range(int(len(cpos)/4)):\n",
    "        rect = cpos[j*4:(j+1)*4]\n",
    "        pts = np.array(rect, np.int32)\n",
    "        pts = pts.reshape((-1, 1, 2))\n",
    "        cv2.polylines(image_overlay, [pts], isClosed=True, color=(0, 255, 0), thickness=2)\n",
    "\n",
    "    # Save the image to the output folder\n",
    "    output_path = os.path.join(output_folder, png_images_names[i])\n",
    "    cv2.imwrite(output_path, image_overlay)\n"
   ]
  },
  {
   "cell_type": "code",
   "execution_count": null,
   "id": "40dd5df3-7084-45a8-8d62-6b19d5968d46",
   "metadata": {},
   "outputs": [],
   "source": [
    "import argparse\n",
    "import glob\n",
    "import os\n",
    "import numpy as np\n",
    "from imageio import imsave\n",
    "from depth_image import DepthImage\n",
    "\n",
    "pcds = list(pcd_files.values())\n",
    "\n",
    "for pcd in pcds:\n",
    "    di = DepthImage.from_pcd(pcd, (480, 640))\n",
    "    di.inpaint()\n",
    "\n",
    "    of_name = pcd.replace('.txt', 'd.tiff')\n",
    "    imsave(of_name, di.img.astype(np.float32))"
   ]
  },
  {
   "cell_type": "code",
   "execution_count": 22,
   "id": "c7429264-e1b7-463a-a357-334c2bcc1714",
   "metadata": {},
   "outputs": [],
   "source": [
    "# Loop through folders 01 to 10\n",
    "tiff_images = {}\n",
    "for i in range(1, 11):\n",
    "    folder = os.path.join(root_dir, f\"{i:02d}\")  # Format 01, 02, ..., 10\n",
    "    tiff_image_files = glob.glob(os.path.join(folder, \"*.tiff\"))\n",
    "    tiff_image_files.sort()\n",
    "    for tiff_img_path in tiff_image_files:\n",
    "        try:\n",
    "            tiff_images[os.path.basename(tiff_img_path)] = Image.open(tiff_img_path)  # Using PIL\n",
    "        except Exception as e:\n",
    "            print(f\"Error loading image {img_path}: {e}\")"
   ]
  },
  {
   "cell_type": "code",
   "execution_count": 5,
   "id": "c76a6262-c59c-4cc6-a7f5-dee711235e92",
   "metadata": {},
   "outputs": [],
   "source": [
    "tiff_images_list = list(tiff_images.values())"
   ]
  },
  {
   "cell_type": "code",
   "execution_count": 6,
   "id": "5308d6ab-57ab-4560-92b8-9d34c56f1f98",
   "metadata": {},
   "outputs": [],
   "source": [
    "tiff_images_names = list(tiff_images.keys())"
   ]
  },
  {
   "cell_type": "code",
   "execution_count": 41,
   "id": "d4433260-e4e1-4b45-80db-aa96114661c8",
   "metadata": {},
   "outputs": [],
   "source": [
    "output_folder = \"output_images/rgbd/\"\n",
    "os.makedirs(output_folder, exist_ok=True)\n",
    "for rgb_img, depth_img, name in zip(png_images_list, tiff_images_list, tiff_images_names):\n",
    "    # Convert RGB image to a NumPy array\n",
    "    rgb_array = np.array(rgb_img)\n",
    "    \n",
    "    # Convert depth image to NumPy array (float32)\n",
    "    depth_array = np.array(depth_img, dtype=np.float32)\n",
    "    \n",
    "    depth_array = cv2.normalize(depth_array, None, 0, 255, cv2.NORM_MINMAX)\n",
    "    depth_array = depth_array.astype(np.uint8)\n",
    "    depth_array = np.expand_dims(depth_array, axis=-1)\n",
    "    \n",
    "    # Repeat depth image across 3 channels to make it compatible with RGB\n",
    "    # depth_array_3d = np.repeat(depth_array[:, :, np.newaxis], 3, axis=2)\n",
    "    \n",
    "    # Stack RGB image and depth image to form RGB-D image (4 channels)\n",
    "    rgbd_image = np.concatenate((rgb_array, depth_array), axis=2)\n",
    "    # Convert back to PIL Image (for saving)\n",
    "    rgbd_image_pil = Image.fromarray(rgbd_image)\n",
    "    rgbd_image_pil.save(output_folder+name.replace(\"d.tiff\", \"rgbd.png\"))"
   ]
  },
  {
   "cell_type": "code",
   "execution_count": null,
   "id": "3a28b6f4-e168-42bc-9563-3c585344107e",
   "metadata": {},
   "outputs": [],
   "source": []
  }
 ],
 "metadata": {
  "kernelspec": {
   "display_name": "me592",
   "language": "python",
   "name": "me592"
  },
  "language_info": {
   "codemirror_mode": {
    "name": "ipython",
    "version": 3
   },
   "file_extension": ".py",
   "mimetype": "text/x-python",
   "name": "python",
   "nbconvert_exporter": "python",
   "pygments_lexer": "ipython3",
   "version": "3.10.16"
  }
 },
 "nbformat": 4,
 "nbformat_minor": 5
}
