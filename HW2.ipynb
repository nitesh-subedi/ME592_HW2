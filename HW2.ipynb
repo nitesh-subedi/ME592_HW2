{
 "cells": [
  {
   "cell_type": "code",
   "execution_count": 1,
   "id": "46f0d242-22b2-4200-ae49-246a80a28b70",
   "metadata": {},
   "outputs": [
    {
     "name": "stderr",
     "output_type": "stream",
     "text": [
      "/tmp/ipykernel_47927/1998358913.py:40: UserWarning: loadtxt: input contained no data: \"<_io.TextIOWrapper name='data/01/pcd0154cneg.txt' mode='r' encoding='UTF-8'>\"\n",
      "  cneg_files[file_name] = np.loadtxt(file)\n"
     ]
    }
   ],
   "source": [
    "import os\n",
    "import glob\n",
    "import cv2\n",
    "from PIL import Image\n",
    "import numpy as np\n",
    "\n",
    "# Define the root directory\n",
    "root_dir = \"data\"\n",
    "\n",
    "# Initialize lists for storing data\n",
    "png_images = {}     \n",
    "tiff_images = {}\n",
    "cneg_files = {}\n",
    "cpos_files = {}\n",
    "pcd_files = {}\n",
    "\n",
    "# Loop through folders 01 to 10\n",
    "for i in range(1, 11):\n",
    "    folder = os.path.join(root_dir, f\"{i:02d}\")  # Format 01, 02, ..., 10\n",
    "\n",
    "    # Load TIFF and PNG images\n",
    "    rgb_image_files = glob.glob(os.path.join(folder, \"*.png\"))\n",
    "    rgb_image_files.sort()\n",
    "    tiff_image_files = glob.glob(os.path.join(folder, \"*.tiff\"))\n",
    "    tiff_image_files.sort()\n",
    "    for rgb_img_path, tiff_img_path in zip(rgb_image_files, tiff_image_files):\n",
    "        try:\n",
    "            png_images[os.path.basename(rgb_img_path)] = Image.open(rgb_img_path)  # Using PIL\n",
    "            tiff_images[os.path.basename(tiff_img_path)] = Image.open(tiff_img_path)  # Using PIL\n",
    "        except Exception as e:\n",
    "            print(f\"Error loading image {img_path}: {e}\")\n",
    "\n",
    "    # Load TXT files\n",
    "    all_txt_files = glob.glob(os.path.join(folder, \"*.txt\"))\n",
    "    all_txt_files.sort()\n",
    "    for txt_path in all_txt_files:\n",
    "        file_name = os.path.basename(txt_path)\n",
    "        with open(txt_path, \"r\") as file:\n",
    "            if \"cneg\" in file_name:\n",
    "                cneg_files[file_name] = np.loadtxt(file)\n",
    "            elif \"cpos\" in file_name:\n",
    "                cpos_files[file_name] = np.loadtxt(file)\n",
    "            else:\n",
    "                pcd_files[file_name] = txt_path\n"
   ]
  },
  {
   "cell_type": "code",
   "execution_count": 2,
   "id": "1ecce578-7a55-49f5-8556-e45fa5524dae",
   "metadata": {},
   "outputs": [
    {
     "name": "stdout",
     "output_type": "stream",
     "text": [
      "Total rgb images loaded: 885\n",
      "Total tiff images loaded: 885\n",
      "Total cneg_files loaded: 885\n",
      "Total cpos_files loaded: 885\n"
     ]
    }
   ],
   "source": [
    "# Print sample outputs\n",
    "print(f\"Total rgb images loaded: {len(png_images)}\")\n",
    "print(f\"Total tiff images loaded: {len(tiff_images)}\")\n",
    "print(f\"Total cneg_files loaded: {len(cneg_files)}\")\n",
    "print(f\"Total cpos_files loaded: {len(cpos_files)}\")"
   ]
  },
  {
   "cell_type": "code",
   "execution_count": 3,
   "id": "f5dbbcab-b253-4a57-8a60-1b098d757ac6",
   "metadata": {},
   "outputs": [],
   "source": [
    "cnegs = list(cneg_files.values())\n",
    "cposs = list(cpos_files.values())\n",
    "png_images_list = list(png_images.values())"
   ]
  },
  {
   "cell_type": "code",
   "execution_count": 4,
   "id": "b1032c10-4245-4dfa-9ac2-626476df8de6",
   "metadata": {},
   "outputs": [],
   "source": [
    "png_images_names = list(png_images.keys())"
   ]
  },
  {
   "cell_type": "code",
   "execution_count": 5,
   "id": "2c333808-962f-45dc-a85f-d273d9a6b5ef",
   "metadata": {},
   "outputs": [
    {
     "name": "stderr",
     "output_type": "stream",
     "text": [
      "/tmp/ipykernel_47927/1427850225.py:22: RuntimeWarning: invalid value encountered in cast\n",
      "  pts = np.array(rect, np.int32)\n"
     ]
    },
    {
     "ename": "KeyboardInterrupt",
     "evalue": "",
     "output_type": "error",
     "traceback": [
      "\u001b[0;31m---------------------------------------------------------------------------\u001b[0m",
      "\u001b[0;31mKeyboardInterrupt\u001b[0m                         Traceback (most recent call last)",
      "Cell \u001b[0;32mIn[5], line 28\u001b[0m\n\u001b[1;32m     26\u001b[0m \u001b[38;5;66;03m# Save the image to the output folder\u001b[39;00m\n\u001b[1;32m     27\u001b[0m output_path \u001b[38;5;241m=\u001b[39m os\u001b[38;5;241m.\u001b[39mpath\u001b[38;5;241m.\u001b[39mjoin(output_folder, png_images_names[i])\n\u001b[0;32m---> 28\u001b[0m \u001b[43mcv2\u001b[49m\u001b[38;5;241;43m.\u001b[39;49m\u001b[43mimwrite\u001b[49m\u001b[43m(\u001b[49m\u001b[43moutput_path\u001b[49m\u001b[43m,\u001b[49m\u001b[43m \u001b[49m\u001b[43mimage_overlay\u001b[49m\u001b[43m)\u001b[49m\n",
      "\u001b[0;31mKeyboardInterrupt\u001b[0m: "
     ]
    }
   ],
   "source": [
    "import os\n",
    "import cv2\n",
    "import numpy as np\n",
    "\n",
    "\n",
    "output_folder = 'output_images/with_bboxes'\n",
    "os.makedirs(output_folder, exist_ok=True)\n",
    "\n",
    "for i, (cneg, cpos) in enumerate(zip(cnegs, cposs)):\n",
    "    image_overlay = np.array(png_images_list[i])\n",
    "    \n",
    "    # Process cneg (negative bounding boxes)\n",
    "    for j in range(int(len(cneg)/4)):\n",
    "        rect = cneg[j*4:(j+1)*4]\n",
    "        pts = np.array(rect, np.int32)\n",
    "        pts = pts.reshape((-1, 1, 2))\n",
    "        cv2.polylines(image_overlay, [pts], isClosed=True, color=(255, 0, 0), thickness=2)\n",
    "\n",
    "    # Process cpos (positive bounding boxes)\n",
    "    for j in range(int(len(cpos)/4)):\n",
    "        rect = cpos[j*4:(j+1)*4]\n",
    "        pts = np.array(rect, np.int32)\n",
    "        pts = pts.reshape((-1, 1, 2))\n",
    "        cv2.polylines(image_overlay, [pts], isClosed=True, color=(0, 255, 0), thickness=2)\n",
    "\n",
    "    # Save the image to the output folder\n",
    "    output_path = os.path.join(output_folder, png_images_names[i])\n",
    "    cv2.imwrite(output_path, image_overlay)\n"
   ]
  },
  {
   "cell_type": "code",
   "execution_count": 6,
   "id": "40dd5df3-7084-45a8-8d62-6b19d5968d46",
   "metadata": {},
   "outputs": [
    {
     "ename": "KeyboardInterrupt",
     "evalue": "",
     "output_type": "error",
     "traceback": [
      "\u001b[0;31m---------------------------------------------------------------------------\u001b[0m",
      "\u001b[0;31mKeyboardInterrupt\u001b[0m                         Traceback (most recent call last)",
      "Cell \u001b[0;32mIn[6], line 12\u001b[0m\n\u001b[1;32m     10\u001b[0m \u001b[38;5;28;01mfor\u001b[39;00m pcd \u001b[38;5;129;01min\u001b[39;00m pcds:\n\u001b[1;32m     11\u001b[0m     di \u001b[38;5;241m=\u001b[39m DepthImage\u001b[38;5;241m.\u001b[39mfrom_pcd(pcd, (\u001b[38;5;241m480\u001b[39m, \u001b[38;5;241m640\u001b[39m))\n\u001b[0;32m---> 12\u001b[0m     \u001b[43mdi\u001b[49m\u001b[38;5;241;43m.\u001b[39;49m\u001b[43minpaint\u001b[49m\u001b[43m(\u001b[49m\u001b[43m)\u001b[49m\n\u001b[1;32m     14\u001b[0m     of_name \u001b[38;5;241m=\u001b[39m pcd\u001b[38;5;241m.\u001b[39mreplace(\u001b[38;5;124m'\u001b[39m\u001b[38;5;124m.txt\u001b[39m\u001b[38;5;124m'\u001b[39m, \u001b[38;5;124m'\u001b[39m\u001b[38;5;124md.tiff\u001b[39m\u001b[38;5;124m'\u001b[39m)\n\u001b[1;32m     15\u001b[0m     imsave(of_name, di\u001b[38;5;241m.\u001b[39mimg\u001b[38;5;241m.\u001b[39mastype(np\u001b[38;5;241m.\u001b[39mfloat32))\n",
      "File \u001b[0;32m~/workspace/ME592_HW2/depth_image.py:188\u001b[0m, in \u001b[0;36mDepthImage.inpaint\u001b[0;34m(self, missing_value)\u001b[0m\n\u001b[1;32m    186\u001b[0m scale \u001b[38;5;241m=\u001b[39m np\u001b[38;5;241m.\u001b[39mabs(\u001b[38;5;28mself\u001b[39m\u001b[38;5;241m.\u001b[39mimg)\u001b[38;5;241m.\u001b[39mmax()\n\u001b[1;32m    187\u001b[0m \u001b[38;5;28mself\u001b[39m\u001b[38;5;241m.\u001b[39mimg \u001b[38;5;241m=\u001b[39m \u001b[38;5;28mself\u001b[39m\u001b[38;5;241m.\u001b[39mimg\u001b[38;5;241m.\u001b[39mastype(np\u001b[38;5;241m.\u001b[39mfloat32) \u001b[38;5;241m/\u001b[39m scale  \u001b[38;5;66;03m# Has to be float32, 64 not supported.\u001b[39;00m\n\u001b[0;32m--> 188\u001b[0m \u001b[38;5;28mself\u001b[39m\u001b[38;5;241m.\u001b[39mimg \u001b[38;5;241m=\u001b[39m \u001b[43mcv2\u001b[49m\u001b[38;5;241;43m.\u001b[39;49m\u001b[43minpaint\u001b[49m\u001b[43m(\u001b[49m\u001b[38;5;28;43mself\u001b[39;49m\u001b[38;5;241;43m.\u001b[39;49m\u001b[43mimg\u001b[49m\u001b[38;5;241;43m.\u001b[39;49m\u001b[43mastype\u001b[49m\u001b[43m(\u001b[49m\u001b[43mnp\u001b[49m\u001b[38;5;241;43m.\u001b[39;49m\u001b[43mfloat32\u001b[49m\u001b[43m)\u001b[49m\u001b[43m,\u001b[49m\u001b[43m \u001b[49m\u001b[43mmask\u001b[49m\u001b[43m,\u001b[49m\u001b[43m \u001b[49m\u001b[38;5;241;43m1\u001b[39;49m\u001b[43m,\u001b[49m\u001b[43m \u001b[49m\u001b[43mcv2\u001b[49m\u001b[38;5;241;43m.\u001b[39;49m\u001b[43mINPAINT_NS\u001b[49m\u001b[43m)\u001b[49m\n\u001b[1;32m    190\u001b[0m \u001b[38;5;66;03m# Back to original size and value range.\u001b[39;00m\n\u001b[1;32m    191\u001b[0m \u001b[38;5;28mself\u001b[39m\u001b[38;5;241m.\u001b[39mimg \u001b[38;5;241m=\u001b[39m \u001b[38;5;28mself\u001b[39m\u001b[38;5;241m.\u001b[39mimg[\u001b[38;5;241m1\u001b[39m:\u001b[38;5;241m-\u001b[39m\u001b[38;5;241m1\u001b[39m, \u001b[38;5;241m1\u001b[39m:\u001b[38;5;241m-\u001b[39m\u001b[38;5;241m1\u001b[39m]\n",
      "\u001b[0;31mKeyboardInterrupt\u001b[0m: "
     ]
    }
   ],
   "source": [
    "import argparse\n",
    "import glob\n",
    "import os\n",
    "import numpy as np\n",
    "from imageio import imsave\n",
    "from depth_image import DepthImage\n",
    "\n",
    "pcds = list(pcd_files.values())\n",
    "\n",
    "for pcd in pcds:\n",
    "    di = DepthImage.from_pcd(pcd, (480, 640))\n",
    "    di.inpaint()\n",
    "\n",
    "    of_name = pcd.replace('.txt', 'd.tiff')\n",
    "    imsave(of_name, di.img.astype(np.float32))"
   ]
  },
  {
   "cell_type": "code",
   "execution_count": 7,
   "id": "c7429264-e1b7-463a-a357-334c2bcc1714",
   "metadata": {},
   "outputs": [],
   "source": [
    "# Loop through folders 01 to 10\n",
    "tiff_images = {}\n",
    "for i in range(1, 11):\n",
    "    folder = os.path.join(root_dir, f\"{i:02d}\")  # Format 01, 02, ..., 10\n",
    "    tiff_image_files = glob.glob(os.path.join(folder, \"*.tiff\"))\n",
    "    tiff_image_files.sort()\n",
    "    for tiff_img_path in tiff_image_files:\n",
    "        try:\n",
    "            tiff_images[os.path.basename(tiff_img_path)] = Image.open(tiff_img_path)  # Using PIL\n",
    "        except Exception as e:\n",
    "            print(f\"Error loading image {img_path}: {e}\")"
   ]
  },
  {
   "cell_type": "code",
   "execution_count": 8,
   "id": "c76a6262-c59c-4cc6-a7f5-dee711235e92",
   "metadata": {},
   "outputs": [],
   "source": [
    "tiff_images_list = list(tiff_images.values())"
   ]
  },
  {
   "cell_type": "code",
   "execution_count": 9,
   "id": "5308d6ab-57ab-4560-92b8-9d34c56f1f98",
   "metadata": {},
   "outputs": [],
   "source": [
    "tiff_images_names = list(tiff_images.keys())"
   ]
  },
  {
   "cell_type": "code",
   "execution_count": 10,
   "id": "d4433260-e4e1-4b45-80db-aa96114661c8",
   "metadata": {},
   "outputs": [
    {
     "ename": "KeyboardInterrupt",
     "evalue": "",
     "output_type": "error",
     "traceback": [
      "\u001b[0;31m---------------------------------------------------------------------------\u001b[0m",
      "\u001b[0;31mAttributeError\u001b[0m                            Traceback (most recent call last)",
      "File \u001b[0;32m~/.conda/envs/my5920_env/lib/python3.10/site-packages/PIL/ImageFile.py:554\u001b[0m, in \u001b[0;36m_save\u001b[0;34m(im, fp, tile, bufsize)\u001b[0m\n\u001b[1;32m    553\u001b[0m \u001b[38;5;28;01mtry\u001b[39;00m:\n\u001b[0;32m--> 554\u001b[0m     fh \u001b[38;5;241m=\u001b[39m \u001b[43mfp\u001b[49m\u001b[38;5;241;43m.\u001b[39;49m\u001b[43mfileno\u001b[49m()\n\u001b[1;32m    555\u001b[0m     fp\u001b[38;5;241m.\u001b[39mflush()\n",
      "\u001b[0;31mAttributeError\u001b[0m: '_idat' object has no attribute 'fileno'",
      "\nDuring handling of the above exception, another exception occurred:\n",
      "\u001b[0;31mKeyboardInterrupt\u001b[0m                         Traceback (most recent call last)",
      "Cell \u001b[0;32mIn[10], line 18\u001b[0m\n\u001b[1;32m     16\u001b[0m \u001b[38;5;66;03m# Convert back to PIL Image (for saving)\u001b[39;00m\n\u001b[1;32m     17\u001b[0m rgbd_image_pil \u001b[38;5;241m=\u001b[39m Image\u001b[38;5;241m.\u001b[39mfromarray(rgbd_image)\n\u001b[0;32m---> 18\u001b[0m \u001b[43mrgbd_image_pil\u001b[49m\u001b[38;5;241;43m.\u001b[39;49m\u001b[43msave\u001b[49m\u001b[43m(\u001b[49m\u001b[43moutput_folder\u001b[49m\u001b[38;5;241;43m+\u001b[39;49m\u001b[43mname\u001b[49m\u001b[38;5;241;43m.\u001b[39;49m\u001b[43mreplace\u001b[49m\u001b[43m(\u001b[49m\u001b[38;5;124;43m\"\u001b[39;49m\u001b[38;5;124;43md.tiff\u001b[39;49m\u001b[38;5;124;43m\"\u001b[39;49m\u001b[43m,\u001b[49m\u001b[43m \u001b[49m\u001b[38;5;124;43m\"\u001b[39;49m\u001b[38;5;124;43mrgbd.png\u001b[39;49m\u001b[38;5;124;43m\"\u001b[39;49m\u001b[43m)\u001b[49m\u001b[43m)\u001b[49m\n",
      "File \u001b[0;32m~/.conda/envs/my5920_env/lib/python3.10/site-packages/PIL/Image.py:2596\u001b[0m, in \u001b[0;36mImage.save\u001b[0;34m(self, fp, format, **params)\u001b[0m\n\u001b[1;32m   2593\u001b[0m     fp \u001b[38;5;241m=\u001b[39m cast(IO[\u001b[38;5;28mbytes\u001b[39m], fp)\n\u001b[1;32m   2595\u001b[0m \u001b[38;5;28;01mtry\u001b[39;00m:\n\u001b[0;32m-> 2596\u001b[0m     \u001b[43msave_handler\u001b[49m\u001b[43m(\u001b[49m\u001b[38;5;28;43mself\u001b[39;49m\u001b[43m,\u001b[49m\u001b[43m \u001b[49m\u001b[43mfp\u001b[49m\u001b[43m,\u001b[49m\u001b[43m \u001b[49m\u001b[43mfilename\u001b[49m\u001b[43m)\u001b[49m\n\u001b[1;32m   2597\u001b[0m \u001b[38;5;28;01mexcept\u001b[39;00m \u001b[38;5;167;01mException\u001b[39;00m:\n\u001b[1;32m   2598\u001b[0m     \u001b[38;5;28;01mif\u001b[39;00m open_fp:\n",
      "File \u001b[0;32m~/.conda/envs/my5920_env/lib/python3.10/site-packages/PIL/PngImagePlugin.py:1488\u001b[0m, in \u001b[0;36m_save\u001b[0;34m(im, fp, filename, chunk, save_all)\u001b[0m\n\u001b[1;32m   1484\u001b[0m     single_im \u001b[38;5;241m=\u001b[39m _write_multiple_frames(\n\u001b[1;32m   1485\u001b[0m         im, fp, chunk, mode, rawmode, default_image, append_images\n\u001b[1;32m   1486\u001b[0m     )\n\u001b[1;32m   1487\u001b[0m \u001b[38;5;28;01mif\u001b[39;00m single_im:\n\u001b[0;32m-> 1488\u001b[0m     \u001b[43mImageFile\u001b[49m\u001b[38;5;241;43m.\u001b[39;49m\u001b[43m_save\u001b[49m\u001b[43m(\u001b[49m\n\u001b[1;32m   1489\u001b[0m \u001b[43m        \u001b[49m\u001b[43msingle_im\u001b[49m\u001b[43m,\u001b[49m\n\u001b[1;32m   1490\u001b[0m \u001b[43m        \u001b[49m\u001b[43mcast\u001b[49m\u001b[43m(\u001b[49m\u001b[43mIO\u001b[49m\u001b[43m[\u001b[49m\u001b[38;5;28;43mbytes\u001b[39;49m\u001b[43m]\u001b[49m\u001b[43m,\u001b[49m\u001b[43m \u001b[49m\u001b[43m_idat\u001b[49m\u001b[43m(\u001b[49m\u001b[43mfp\u001b[49m\u001b[43m,\u001b[49m\u001b[43m \u001b[49m\u001b[43mchunk\u001b[49m\u001b[43m)\u001b[49m\u001b[43m)\u001b[49m\u001b[43m,\u001b[49m\n\u001b[1;32m   1491\u001b[0m \u001b[43m        \u001b[49m\u001b[43m[\u001b[49m\u001b[43mImageFile\u001b[49m\u001b[38;5;241;43m.\u001b[39;49m\u001b[43m_Tile\u001b[49m\u001b[43m(\u001b[49m\u001b[38;5;124;43m\"\u001b[39;49m\u001b[38;5;124;43mzip\u001b[39;49m\u001b[38;5;124;43m\"\u001b[39;49m\u001b[43m,\u001b[49m\u001b[43m \u001b[49m\u001b[43m(\u001b[49m\u001b[38;5;241;43m0\u001b[39;49m\u001b[43m,\u001b[49m\u001b[43m \u001b[49m\u001b[38;5;241;43m0\u001b[39;49m\u001b[43m)\u001b[49m\u001b[43m \u001b[49m\u001b[38;5;241;43m+\u001b[39;49m\u001b[43m \u001b[49m\u001b[43msingle_im\u001b[49m\u001b[38;5;241;43m.\u001b[39;49m\u001b[43msize\u001b[49m\u001b[43m,\u001b[49m\u001b[43m \u001b[49m\u001b[38;5;241;43m0\u001b[39;49m\u001b[43m,\u001b[49m\u001b[43m \u001b[49m\u001b[43mrawmode\u001b[49m\u001b[43m)\u001b[49m\u001b[43m]\u001b[49m\u001b[43m,\u001b[49m\n\u001b[1;32m   1492\u001b[0m \u001b[43m    \u001b[49m\u001b[43m)\u001b[49m\n\u001b[1;32m   1494\u001b[0m \u001b[38;5;28;01mif\u001b[39;00m info:\n\u001b[1;32m   1495\u001b[0m     \u001b[38;5;28;01mfor\u001b[39;00m info_chunk \u001b[38;5;129;01min\u001b[39;00m info\u001b[38;5;241m.\u001b[39mchunks:\n",
      "File \u001b[0;32m~/.conda/envs/my5920_env/lib/python3.10/site-packages/PIL/ImageFile.py:558\u001b[0m, in \u001b[0;36m_save\u001b[0;34m(im, fp, tile, bufsize)\u001b[0m\n\u001b[1;32m    556\u001b[0m     _encode_tile(im, fp, tile, bufsize, fh)\n\u001b[1;32m    557\u001b[0m \u001b[38;5;28;01mexcept\u001b[39;00m (\u001b[38;5;167;01mAttributeError\u001b[39;00m, io\u001b[38;5;241m.\u001b[39mUnsupportedOperation) \u001b[38;5;28;01mas\u001b[39;00m exc:\n\u001b[0;32m--> 558\u001b[0m     \u001b[43m_encode_tile\u001b[49m\u001b[43m(\u001b[49m\u001b[43mim\u001b[49m\u001b[43m,\u001b[49m\u001b[43m \u001b[49m\u001b[43mfp\u001b[49m\u001b[43m,\u001b[49m\u001b[43m \u001b[49m\u001b[43mtile\u001b[49m\u001b[43m,\u001b[49m\u001b[43m \u001b[49m\u001b[43mbufsize\u001b[49m\u001b[43m,\u001b[49m\u001b[43m \u001b[49m\u001b[38;5;28;43;01mNone\u001b[39;49;00m\u001b[43m,\u001b[49m\u001b[43m \u001b[49m\u001b[43mexc\u001b[49m\u001b[43m)\u001b[49m\n\u001b[1;32m    559\u001b[0m \u001b[38;5;28;01mif\u001b[39;00m \u001b[38;5;28mhasattr\u001b[39m(fp, \u001b[38;5;124m\"\u001b[39m\u001b[38;5;124mflush\u001b[39m\u001b[38;5;124m\"\u001b[39m):\n\u001b[1;32m    560\u001b[0m     fp\u001b[38;5;241m.\u001b[39mflush()\n",
      "File \u001b[0;32m~/.conda/envs/my5920_env/lib/python3.10/site-packages/PIL/ImageFile.py:584\u001b[0m, in \u001b[0;36m_encode_tile\u001b[0;34m(im, fp, tile, bufsize, fh, exc)\u001b[0m\n\u001b[1;32m    581\u001b[0m \u001b[38;5;28;01mif\u001b[39;00m exc:\n\u001b[1;32m    582\u001b[0m     \u001b[38;5;66;03m# compress to Python file-compatible object\u001b[39;00m\n\u001b[1;32m    583\u001b[0m     \u001b[38;5;28;01mwhile\u001b[39;00m \u001b[38;5;28;01mTrue\u001b[39;00m:\n\u001b[0;32m--> 584\u001b[0m         errcode, data \u001b[38;5;241m=\u001b[39m \u001b[43mencoder\u001b[49m\u001b[38;5;241;43m.\u001b[39;49m\u001b[43mencode\u001b[49m\u001b[43m(\u001b[49m\u001b[43mbufsize\u001b[49m\u001b[43m)\u001b[49m[\u001b[38;5;241m1\u001b[39m:]\n\u001b[1;32m    585\u001b[0m         fp\u001b[38;5;241m.\u001b[39mwrite(data)\n\u001b[1;32m    586\u001b[0m         \u001b[38;5;28;01mif\u001b[39;00m errcode:\n",
      "\u001b[0;31mKeyboardInterrupt\u001b[0m: "
     ]
    }
   ],
   "source": [
    "output_folder = \"output_images/rgbd/\"\n",
    "os.makedirs(output_folder, exist_ok=True)\n",
    "for rgb_img, depth_img, name in zip(png_images_list, tiff_images_list, tiff_images_names):\n",
    "    # Convert RGB image to a NumPy array\n",
    "    rgb_array = np.array(rgb_img)\n",
    "    \n",
    "    # Convert depth image to NumPy array (float32)\n",
    "    depth_array = np.array(depth_img, dtype=np.float32)\n",
    "    \n",
    "    depth_array = cv2.normalize(depth_array, None, 0, 255, cv2.NORM_MINMAX)\n",
    "    depth_array = depth_array.astype(np.uint8)\n",
    "    depth_array = np.expand_dims(depth_array, axis=-1)\n",
    "    \n",
    "    # Stack RGB image and depth image to form RGB-D image (4 channels)\n",
    "    rgbd_image = np.concatenate((rgb_array, depth_array), axis=2)\n",
    "    # Convert back to PIL Image (for saving)\n",
    "    rgbd_image_pil = Image.fromarray(rgbd_image)\n",
    "    rgbd_image_pil.save(output_folder+name.replace(\"d.tiff\", \"rgbd.png\"))"
   ]
  },
  {
   "cell_type": "code",
   "execution_count": 11,
   "id": "5b701a65-63ea-4708-8aa4-36b7ab63978a",
   "metadata": {},
   "outputs": [],
   "source": [
    "import matplotlib.pyplot as plt"
   ]
  },
  {
   "cell_type": "code",
   "execution_count": 12,
   "id": "3a28b6f4-e168-42bc-9563-3c585344107e",
   "metadata": {},
   "outputs": [
    {
     "name": "stdout",
     "output_type": "stream",
     "text": [
      "(480, 640, 4)\n",
      "(480, 640, 4)\n",
      "(480, 640, 4)\n",
      "(480, 640, 4)\n",
      "(480, 640, 4)\n",
      "(480, 640, 4)\n",
      "(480, 640, 4)\n",
      "(480, 640, 4)\n",
      "(480, 640, 4)\n",
      "(480, 640, 4)\n",
      "(480, 640, 4)\n",
      "(480, 640, 4)\n",
      "(480, 640, 4)\n",
      "(480, 640, 4)\n",
      "(480, 640, 4)\n",
      "(480, 640, 4)\n",
      "(480, 640, 4)\n",
      "(480, 640, 4)\n",
      "(480, 640, 4)\n",
      "(480, 640, 4)\n",
      "(480, 640, 4)\n",
      "(480, 640, 4)\n",
      "(480, 640, 4)\n",
      "(480, 640, 4)\n",
      "(480, 640, 4)\n",
      "(480, 640, 4)\n"
     ]
    },
    {
     "ename": "OSError",
     "evalue": "image file is truncated",
     "output_type": "error",
     "traceback": [
      "\u001b[0;31m---------------------------------------------------------------------------\u001b[0m",
      "\u001b[0;31merror\u001b[0m                                     Traceback (most recent call last)",
      "File \u001b[0;32m~/.conda/envs/my5920_env/lib/python3.10/site-packages/PIL/ImageFile.py:280\u001b[0m, in \u001b[0;36mImageFile.load\u001b[0;34m(self)\u001b[0m\n\u001b[1;32m    279\u001b[0m \u001b[38;5;28;01mtry\u001b[39;00m:\n\u001b[0;32m--> 280\u001b[0m     s \u001b[38;5;241m=\u001b[39m \u001b[43mread\u001b[49m\u001b[43m(\u001b[49m\u001b[38;5;28;43mself\u001b[39;49m\u001b[38;5;241;43m.\u001b[39;49m\u001b[43mdecodermaxblock\u001b[49m\u001b[43m)\u001b[49m\n\u001b[1;32m    281\u001b[0m \u001b[38;5;28;01mexcept\u001b[39;00m (\u001b[38;5;167;01mIndexError\u001b[39;00m, struct\u001b[38;5;241m.\u001b[39merror) \u001b[38;5;28;01mas\u001b[39;00m e:\n\u001b[1;32m    282\u001b[0m     \u001b[38;5;66;03m# truncated png/gif\u001b[39;00m\n",
      "File \u001b[0;32m~/.conda/envs/my5920_env/lib/python3.10/site-packages/PIL/PngImagePlugin.py:989\u001b[0m, in \u001b[0;36mPngImageFile.load_read\u001b[0;34m(self, read_bytes)\u001b[0m\n\u001b[1;32m    987\u001b[0m \u001b[38;5;28mself\u001b[39m\u001b[38;5;241m.\u001b[39mfp\u001b[38;5;241m.\u001b[39mread(\u001b[38;5;241m4\u001b[39m)  \u001b[38;5;66;03m# CRC\u001b[39;00m\n\u001b[0;32m--> 989\u001b[0m cid, pos, length \u001b[38;5;241m=\u001b[39m \u001b[38;5;28;43mself\u001b[39;49m\u001b[38;5;241;43m.\u001b[39;49m\u001b[43mpng\u001b[49m\u001b[38;5;241;43m.\u001b[39;49m\u001b[43mread\u001b[49m\u001b[43m(\u001b[49m\u001b[43m)\u001b[49m\n\u001b[1;32m    991\u001b[0m \u001b[38;5;28;01mif\u001b[39;00m cid \u001b[38;5;129;01mnot\u001b[39;00m \u001b[38;5;129;01min\u001b[39;00m [\u001b[38;5;124mb\u001b[39m\u001b[38;5;124m\"\u001b[39m\u001b[38;5;124mIDAT\u001b[39m\u001b[38;5;124m\"\u001b[39m, \u001b[38;5;124mb\u001b[39m\u001b[38;5;124m\"\u001b[39m\u001b[38;5;124mDDAT\u001b[39m\u001b[38;5;124m\"\u001b[39m, \u001b[38;5;124mb\u001b[39m\u001b[38;5;124m\"\u001b[39m\u001b[38;5;124mfdAT\u001b[39m\u001b[38;5;124m\"\u001b[39m]:\n",
      "File \u001b[0;32m~/.conda/envs/my5920_env/lib/python3.10/site-packages/PIL/PngImagePlugin.py:173\u001b[0m, in \u001b[0;36mChunkStream.read\u001b[0;34m(self)\u001b[0m\n\u001b[1;32m    172\u001b[0m     pos \u001b[38;5;241m=\u001b[39m \u001b[38;5;28mself\u001b[39m\u001b[38;5;241m.\u001b[39mfp\u001b[38;5;241m.\u001b[39mtell()\n\u001b[0;32m--> 173\u001b[0m     length \u001b[38;5;241m=\u001b[39m \u001b[43mi32\u001b[49m\u001b[43m(\u001b[49m\u001b[43ms\u001b[49m\u001b[43m)\u001b[49m\n\u001b[1;32m    175\u001b[0m \u001b[38;5;28;01mif\u001b[39;00m \u001b[38;5;129;01mnot\u001b[39;00m is_cid(cid):\n",
      "File \u001b[0;32m~/.conda/envs/my5920_env/lib/python3.10/site-packages/PIL/_binary.py:95\u001b[0m, in \u001b[0;36mi32be\u001b[0;34m(c, o)\u001b[0m\n\u001b[1;32m     94\u001b[0m \u001b[38;5;28;01mdef\u001b[39;00m \u001b[38;5;21mi32be\u001b[39m(c: \u001b[38;5;28mbytes\u001b[39m, o: \u001b[38;5;28mint\u001b[39m \u001b[38;5;241m=\u001b[39m \u001b[38;5;241m0\u001b[39m) \u001b[38;5;241m-\u001b[39m\u001b[38;5;241m>\u001b[39m \u001b[38;5;28mint\u001b[39m:\n\u001b[0;32m---> 95\u001b[0m     \u001b[38;5;28;01mreturn\u001b[39;00m \u001b[43munpack_from\u001b[49m\u001b[43m(\u001b[49m\u001b[38;5;124;43m\"\u001b[39;49m\u001b[38;5;124;43m>I\u001b[39;49m\u001b[38;5;124;43m\"\u001b[39;49m\u001b[43m,\u001b[49m\u001b[43m \u001b[49m\u001b[43mc\u001b[49m\u001b[43m,\u001b[49m\u001b[43m \u001b[49m\u001b[43mo\u001b[49m\u001b[43m)\u001b[49m[\u001b[38;5;241m0\u001b[39m]\n",
      "\u001b[0;31merror\u001b[0m: unpack_from requires a buffer of at least 4 bytes for unpacking 4 bytes at offset 0 (actual buffer size is 0)",
      "\nThe above exception was the direct cause of the following exception:\n",
      "\u001b[0;31mOSError\u001b[0m                                   Traceback (most recent call last)",
      "Cell \u001b[0;32mIn[12], line 8\u001b[0m\n\u001b[1;32m      6\u001b[0m rgbd_images\u001b[38;5;241m.\u001b[39msort()\n\u001b[1;32m      7\u001b[0m \u001b[38;5;28;01mfor\u001b[39;00m i, cpos \u001b[38;5;129;01min\u001b[39;00m \u001b[38;5;28menumerate\u001b[39m(cposs):\n\u001b[0;32m----> 8\u001b[0m     image_overlay \u001b[38;5;241m=\u001b[39m \u001b[43mnp\u001b[49m\u001b[38;5;241;43m.\u001b[39;49m\u001b[43marray\u001b[49m\u001b[43m(\u001b[49m\u001b[43mImage\u001b[49m\u001b[38;5;241;43m.\u001b[39;49m\u001b[43mopen\u001b[49m\u001b[43m(\u001b[49m\u001b[43mrgbd_images\u001b[49m\u001b[43m[\u001b[49m\u001b[43mi\u001b[49m\u001b[43m]\u001b[49m\u001b[43m)\u001b[49m\u001b[43m)\u001b[49m\n\u001b[1;32m      9\u001b[0m     \u001b[38;5;28mprint\u001b[39m(image_overlay\u001b[38;5;241m.\u001b[39mshape)\n\u001b[1;32m     10\u001b[0m     zero_image \u001b[38;5;241m=\u001b[39m np\u001b[38;5;241m.\u001b[39mzeros_like(image_overlay)\n",
      "File \u001b[0;32m~/.conda/envs/my5920_env/lib/python3.10/site-packages/PIL/Image.py:747\u001b[0m, in \u001b[0;36mImage.__array_interface__\u001b[0;34m(self)\u001b[0m\n\u001b[1;32m    745\u001b[0m     new[\u001b[38;5;124m\"\u001b[39m\u001b[38;5;124mdata\u001b[39m\u001b[38;5;124m\"\u001b[39m] \u001b[38;5;241m=\u001b[39m \u001b[38;5;28mself\u001b[39m\u001b[38;5;241m.\u001b[39mtobytes(\u001b[38;5;124m\"\u001b[39m\u001b[38;5;124mraw\u001b[39m\u001b[38;5;124m\"\u001b[39m, \u001b[38;5;124m\"\u001b[39m\u001b[38;5;124mL\u001b[39m\u001b[38;5;124m\"\u001b[39m)\n\u001b[1;32m    746\u001b[0m \u001b[38;5;28;01melse\u001b[39;00m:\n\u001b[0;32m--> 747\u001b[0m     new[\u001b[38;5;124m\"\u001b[39m\u001b[38;5;124mdata\u001b[39m\u001b[38;5;124m\"\u001b[39m] \u001b[38;5;241m=\u001b[39m \u001b[38;5;28;43mself\u001b[39;49m\u001b[38;5;241;43m.\u001b[39;49m\u001b[43mtobytes\u001b[49m\u001b[43m(\u001b[49m\u001b[43m)\u001b[49m\n\u001b[1;32m    748\u001b[0m new[\u001b[38;5;124m\"\u001b[39m\u001b[38;5;124mshape\u001b[39m\u001b[38;5;124m\"\u001b[39m], new[\u001b[38;5;124m\"\u001b[39m\u001b[38;5;124mtypestr\u001b[39m\u001b[38;5;124m\"\u001b[39m] \u001b[38;5;241m=\u001b[39m _conv_type_shape(\u001b[38;5;28mself\u001b[39m)\n\u001b[1;32m    749\u001b[0m \u001b[38;5;28;01mreturn\u001b[39;00m new\n",
      "File \u001b[0;32m~/.conda/envs/my5920_env/lib/python3.10/site-packages/PIL/Image.py:796\u001b[0m, in \u001b[0;36mImage.tobytes\u001b[0;34m(self, encoder_name, *args)\u001b[0m\n\u001b[1;32m    793\u001b[0m \u001b[38;5;28;01mif\u001b[39;00m encoder_name \u001b[38;5;241m==\u001b[39m \u001b[38;5;124m\"\u001b[39m\u001b[38;5;124mraw\u001b[39m\u001b[38;5;124m\"\u001b[39m \u001b[38;5;129;01mand\u001b[39;00m encoder_args \u001b[38;5;241m==\u001b[39m ():\n\u001b[1;32m    794\u001b[0m     encoder_args \u001b[38;5;241m=\u001b[39m \u001b[38;5;28mself\u001b[39m\u001b[38;5;241m.\u001b[39mmode\n\u001b[0;32m--> 796\u001b[0m \u001b[38;5;28;43mself\u001b[39;49m\u001b[38;5;241;43m.\u001b[39;49m\u001b[43mload\u001b[49m\u001b[43m(\u001b[49m\u001b[43m)\u001b[49m\n\u001b[1;32m    798\u001b[0m \u001b[38;5;28;01mif\u001b[39;00m \u001b[38;5;28mself\u001b[39m\u001b[38;5;241m.\u001b[39mwidth \u001b[38;5;241m==\u001b[39m \u001b[38;5;241m0\u001b[39m \u001b[38;5;129;01mor\u001b[39;00m \u001b[38;5;28mself\u001b[39m\u001b[38;5;241m.\u001b[39mheight \u001b[38;5;241m==\u001b[39m \u001b[38;5;241m0\u001b[39m:\n\u001b[1;32m    799\u001b[0m     \u001b[38;5;28;01mreturn\u001b[39;00m \u001b[38;5;124mb\u001b[39m\u001b[38;5;124m\"\u001b[39m\u001b[38;5;124m\"\u001b[39m\n",
      "File \u001b[0;32m~/.conda/envs/my5920_env/lib/python3.10/site-packages/PIL/ImageFile.py:287\u001b[0m, in \u001b[0;36mImageFile.load\u001b[0;34m(self)\u001b[0m\n\u001b[1;32m    285\u001b[0m     \u001b[38;5;28;01melse\u001b[39;00m:\n\u001b[1;32m    286\u001b[0m         msg \u001b[38;5;241m=\u001b[39m \u001b[38;5;124m\"\u001b[39m\u001b[38;5;124mimage file is truncated\u001b[39m\u001b[38;5;124m\"\u001b[39m\n\u001b[0;32m--> 287\u001b[0m         \u001b[38;5;28;01mraise\u001b[39;00m \u001b[38;5;167;01mOSError\u001b[39;00m(msg) \u001b[38;5;28;01mfrom\u001b[39;00m \u001b[38;5;21;01me\u001b[39;00m\n\u001b[1;32m    289\u001b[0m \u001b[38;5;28;01mif\u001b[39;00m \u001b[38;5;129;01mnot\u001b[39;00m s:  \u001b[38;5;66;03m# truncated jpeg\u001b[39;00m\n\u001b[1;32m    290\u001b[0m     \u001b[38;5;28;01mif\u001b[39;00m LOAD_TRUNCATED_IMAGES:\n",
      "\u001b[0;31mOSError\u001b[0m: image file is truncated"
     ]
    }
   ],
   "source": [
    "rgbd_folder = 'output_images/rgbd'\n",
    "mask_folder = 'output_images/masks'\n",
    "os.makedirs(mask_folder, exist_ok=True)\n",
    "\n",
    "rgbd_images = glob.glob(os.path.join(rgbd_folder, \"*.png\"))\n",
    "rgbd_images.sort()\n",
    "for i, cpos in enumerate(cposs):\n",
    "    image_overlay = np.array(Image.open(rgbd_images[i]))\n",
    "    print(image_overlay.shape)\n",
    "    zero_image = np.zeros_like(image_overlay)\n",
    "\n",
    "    # Create a blank mask\n",
    "    mask = np.zeros_like(image_overlay[:, :, 0])  # Single channel mask\n",
    "\n",
    "    # Process cpos (positive bounding boxes)\n",
    "    for j in range(int(len(cpos) / 4)):\n",
    "        rect = cpos[j * 4:(j + 1) * 4]\n",
    "        pts = np.array(rect, np.int32).reshape((-1, 1, 2))\n",
    "\n",
    "        # Fill the polygon with white in the mask\n",
    "        cv2.fillPoly(mask, [pts], 255)\n",
    "\n",
    "    # Apply the mask to keep only the selected regions\n",
    "    result = cv2.bitwise_and(image_overlay, image_overlay, mask=mask)\n",
    "    # Save the image to the output folder\n",
    "    output_path = os.path.join(mask_folder, png_images_names[i])\n",
    "    cv2.imwrite(output_path, result)\n",
    "    \n",
    "print(f\"images saved in {output_path}\")\n",
    "plt.imshow(result)"
   ]
  },
  {
   "cell_type": "code",
   "execution_count": 13,
   "id": "a04c5b10-8181-47eb-bf46-dc05b58da7d4",
   "metadata": {},
   "outputs": [],
   "source": [
    "masks_folder = 'output_images/masks'\n",
    "yuv_folder = 'output_images/yuv'\n",
    "depth_image_of_cpos = 'output_images/cpos_mask'\n",
    "os.makedirs(yuv_folder, exist_ok=True)\n",
    "os.makedirs(depth_image_of_cpos, exist_ok=True)"
   ]
  },
  {
   "cell_type": "code",
   "execution_count": 14,
   "id": "cf98fb64-b790-42e7-b835-a6a9386e3730",
   "metadata": {},
   "outputs": [],
   "source": [
    "masks_image_files = glob.glob(os.path.join(masks_folder, \"*.png\"))\n",
    "masks_image_files.sort()"
   ]
  },
  {
   "cell_type": "code",
   "execution_count": 15,
   "id": "e1545c22-44c4-4f4f-8c56-7a397304ec95",
   "metadata": {},
   "outputs": [
    {
     "ename": "IndexError",
     "evalue": "index 3 is out of bounds for axis 2 with size 3",
     "output_type": "error",
     "traceback": [
      "\u001b[0;31m---------------------------------------------------------------------------\u001b[0m",
      "\u001b[0;31mIndexError\u001b[0m                                Traceback (most recent call last)",
      "Cell \u001b[0;32mIn[15], line 4\u001b[0m\n\u001b[1;32m      2\u001b[0m image \u001b[38;5;241m=\u001b[39m np\u001b[38;5;241m.\u001b[39marray(Image\u001b[38;5;241m.\u001b[39mopen(mask_image))\n\u001b[1;32m      3\u001b[0m yuv_image \u001b[38;5;241m=\u001b[39m cv2\u001b[38;5;241m.\u001b[39mcvtColor(image[:, :, :\u001b[38;5;241m3\u001b[39m], cv2\u001b[38;5;241m.\u001b[39mCOLOR_RGB2YUV)\n\u001b[0;32m----> 4\u001b[0m depth_image_of_mask \u001b[38;5;241m=\u001b[39m \u001b[43mimage\u001b[49m\u001b[43m[\u001b[49m\u001b[43m:\u001b[49m\u001b[43m,\u001b[49m\u001b[43m \u001b[49m\u001b[43m:\u001b[49m\u001b[43m,\u001b[49m\u001b[43m \u001b[49m\u001b[38;5;241;43m3\u001b[39;49m\u001b[43m]\u001b[49m\n\u001b[1;32m      5\u001b[0m name \u001b[38;5;241m=\u001b[39m os\u001b[38;5;241m.\u001b[39mpath\u001b[38;5;241m.\u001b[39mjoin(yuv_folder, png_images_names[i])\n\u001b[1;32m      6\u001b[0m cv2\u001b[38;5;241m.\u001b[39mimwrite(name, yuv_image)\n",
      "\u001b[0;31mIndexError\u001b[0m: index 3 is out of bounds for axis 2 with size 3"
     ]
    }
   ],
   "source": [
    "for i, mask_image in enumerate(masks_image_files):\n",
    "    image = np.array(Image.open(mask_image))\n",
    "    yuv_image = cv2.cvtColor(image[:, :, :3], cv2.COLOR_RGB2YUV)\n",
    "    depth_image_of_mask = image[:, :, 3]\n",
    "    name = os.path.join(yuv_folder, png_images_names[i])\n",
    "    cv2.imwrite(name, yuv_image)\n",
    "    name = os.path.join(depth_image_of_cpos, png_images_names[i])\n",
    "    cv2.imwrite(name, depth_image_of_mask)\n",
    "plt.imshow(yuv_image)"
   ]
  },
  {
   "cell_type": "code",
   "execution_count": 16,
   "id": "6af75133-44e0-4d77-b796-d5a19ce0c4f7",
   "metadata": {},
   "outputs": [
    {
     "data": {
      "text/plain": [
       "<matplotlib.image.AxesImage at 0x7369670ba2c0>"
      ]
     },
     "execution_count": 16,
     "metadata": {},
     "output_type": "execute_result"
    },
    {
     "data": {
      "image/png": "[encoded data removed]",
      "text/plain": [
       "<Figure size 640x480 with 1 Axes>"
      ]
     },
     "metadata": {},
     "output_type": "display_data"
    }
   ],
   "source": [
    "plt.imshow(depth_image_of_mask)"
   ]
  },
  {
   "cell_type": "code",
   "execution_count": null,
   "id": "70afe6aa-b994-4c82-a6c9-8f3fd7e8234a",
   "metadata": {},
   "outputs": [],
   "source": [
    "!pip install scikit-learn"
   ]
  },
  {
   "cell_type": "code",
   "execution_count": null,
   "id": "d1d937d3-e10b-4769-90b6-a3b16dc9b19d",
   "metadata": {},
   "outputs": [],
   "source": [
    "from sklearn.decomposition import PCA\n",
    "pca = PCA(whiten=True)"
   ]
  },
  {
   "cell_type": "code",
   "execution_count": null,
   "id": "594ab046-afd1-4916-b436-6a2188177148",
   "metadata": {},
   "outputs": [],
   "source": [
    "depth_image_of_cpos = 'output_images/cpos_mask'\n",
    "pca_depth_path = \"output_images/cpos_pca_depth\"\n",
    "os.makedirs(pca_depth_path, exist_ok=True)"
   ]
  },
  {
   "cell_type": "code",
   "execution_count": null,
   "id": "df39f332-552f-417e-9ae9-3b8bc2c30f96",
   "metadata": {},
   "outputs": [],
   "source": [
    "c_pos_depths = glob.glob(os.path.join(depth_image_of_cpos, \"*.png\"))\n",
    "c_pos_depths.sort()"
   ]
  },
  {
   "cell_type": "code",
   "execution_count": null,
   "id": "bd658930-893b-4847-be92-78ad61ef50fd",
   "metadata": {},
   "outputs": [],
   "source": [
    "for i, c_pos_depth in enumerate(c_pos_depths):\n",
    "    c_pos_depth = np.array(Image.open(c_pos_depth))\n",
    "    depth_flat = c_pos_depth.flatten().reshape(-1,1)\n",
    "    depth_whitened = pca.fit_transform(depth_flat)\n",
    "    depth_whitened_image = depth_whitened.reshape(c_pos_depth.shape)\n",
    "    name = os.path.join(pca_depth_path, png_images_names[i])\n",
    "    cv2.imwrite(name, depth_whitened_image)\n",
    "plt.imshow(depth_whitened_image)"
   ]
  },
  {
   "cell_type": "code",
   "execution_count": null,
   "id": "b10fdf1e-43e8-4c0c-93bb-5e60d58e9363",
   "metadata": {},
   "outputs": [],
   "source": [
    "norma = (depth_whitened_image - depth_whitened_image.min()) / (depth_whitened_image.max() - depth_whitened_image.min()) * 255"
   ]
  },
  {
   "cell_type": "code",
   "execution_count": null,
   "id": "e5defbf2-b124-4290-975a-49c237ecb1e1",
   "metadata": {},
   "outputs": [],
   "source": [
    "plt.imshow(norma)"
   ]
  },
  {
   "cell_type": "code",
   "execution_count": null,
   "id": "9f91fd62-d667-4b4e-b980-1c6f59fe5f2e",
   "metadata": {},
   "outputs": [],
   "source": [
    "!pip install open3d"
   ]
  },
  {
   "cell_type": "code",
   "execution_count": null,
   "id": "e1ae059b-819b-41c5-885e-41811c7d2a23",
   "metadata": {},
   "outputs": [],
   "source": []
  },
  {
   "cell_type": "code",
   "execution_count": 17,
   "id": "22f0ce99-8c65-4e8e-84be-556b41fb852a",
   "metadata": {},
   "outputs": [],
   "source": [
    "with open(pcds[0], 'r') as f:\n",
    "    # Skip header lines until 'DATA ascii'\n",
    "    for line in f:\n",
    "        if line.startswith('DATA ascii'):\n",
    "            break\n",
    "\n",
    "    # Read the numerical point cloud data\n",
    "    pcd = np.loadtxt(f)"
   ]
  },
  {
   "cell_type": "code",
   "execution_count": 23,
   "id": "19a30c47-14b4-491a-872d-d8f320dd8793",
   "metadata": {},
   "outputs": [
    {
     "ename": "RuntimeError",
     "evalue": "",
     "output_type": "error",
     "traceback": [
      "\u001b[0;31m---------------------------------------------------------------------------\u001b[0m",
      "\u001b[0;31mRuntimeError\u001b[0m                              Traceback (most recent call last)",
      "Cell \u001b[0;32mIn[23], line 4\u001b[0m\n\u001b[1;32m      1\u001b[0m \u001b[38;5;28;01mimport\u001b[39;00m \u001b[38;5;21;01mopen3d\u001b[39;00m \u001b[38;5;28;01mas\u001b[39;00m \u001b[38;5;21;01mo3d\u001b[39;00m\n\u001b[1;32m      3\u001b[0m cld \u001b[38;5;241m=\u001b[39m o3d\u001b[38;5;241m.\u001b[39mgeometry\u001b[38;5;241m.\u001b[39mPointCloud()\n\u001b[0;32m----> 4\u001b[0m cld\u001b[38;5;241m.\u001b[39mpoints \u001b[38;5;241m=\u001b[39m \u001b[43mo3d\u001b[49m\u001b[38;5;241;43m.\u001b[39;49m\u001b[43mutility\u001b[49m\u001b[38;5;241;43m.\u001b[39;49m\u001b[43mVector3dVector\u001b[49m\u001b[43m(\u001b[49m\u001b[43mpcd\u001b[49m\u001b[43m)\u001b[49m\n\u001b[1;32m      6\u001b[0m \u001b[38;5;66;03m# Visualize the point cloud\u001b[39;00m\n\u001b[1;32m      7\u001b[0m o3d\u001b[38;5;241m.\u001b[39mvisualization\u001b[38;5;241m.\u001b[39mdraw_plotly([cld])\n",
      "\u001b[0;31mRuntimeError\u001b[0m: "
     ]
    }
   ],
   "source": [
    "import open3d as o3d\n",
    "\n",
    "cld = o3d.geometry.PointCloud()\n",
    "cld.points = o3d.utility.Vector3dVector(pcd)\n",
    "\n",
    "# Visualize the point cloud\n",
    "o3d.visualization.draw_plotly([cld])"
   ]
  },
  {
   "cell_type": "code",
   "execution_count": 22,
   "id": "87668242-9c09-49da-8bb0-26ff803ac9b7",
   "metadata": {},
   "outputs": [
    {
     "ename": "ImportError",
     "evalue": "cannot import name 'JVisualizer' from 'open3d' (/home/exouser/.conda/envs/my5920_env/lib/python3.10/site-packages/open3d/__init__.py)",
     "output_type": "error",
     "traceback": [
      "\u001b[0;31m---------------------------------------------------------------------------\u001b[0m",
      "\u001b[0;31mImportError\u001b[0m                               Traceback (most recent call last)",
      "Cell \u001b[0;32mIn[22], line 3\u001b[0m\n\u001b[1;32m      1\u001b[0m \u001b[38;5;28;01mimport\u001b[39;00m \u001b[38;5;21;01mnumpy\u001b[39;00m \u001b[38;5;28;01mas\u001b[39;00m \u001b[38;5;21;01mnp\u001b[39;00m\n\u001b[1;32m      2\u001b[0m \u001b[38;5;28;01mimport\u001b[39;00m \u001b[38;5;21;01mopen3d\u001b[39;00m \u001b[38;5;28;01mas\u001b[39;00m \u001b[38;5;21;01mo3d\u001b[39;00m\n\u001b[0;32m----> 3\u001b[0m \u001b[38;5;28;01mfrom\u001b[39;00m \u001b[38;5;21;01mopen3d\u001b[39;00m \u001b[38;5;28;01mimport\u001b[39;00m JVisualizer\n\u001b[1;32m      5\u001b[0m visualizer \u001b[38;5;241m=\u001b[39m JVisualizer()\n\u001b[1;32m      6\u001b[0m visualizer\u001b[38;5;241m.\u001b[39madd_geometry(pcd)\n",
      "\u001b[0;31mImportError\u001b[0m: cannot import name 'JVisualizer' from 'open3d' (/home/exouser/.conda/envs/my5920_env/lib/python3.10/site-packages/open3d/__init__.py)"
     ]
    }
   ],
   "source": [
    "import numpy as np\n",
    "import open3d as o3d\n",
    "from open3d import JVisualizer\n",
    "\n",
    "visualizer = JVisualizer()\n",
    "visualizer.add_geometry(pcd)\n",
    "visualizer.show()"
   ]
  },
  {
   "cell_type": "code",
   "execution_count": null,
   "id": "66f6d11f-f74f-4208-9580-d75e6660f69f",
   "metadata": {},
   "outputs": [],
   "source": []
  }
 ],
 "metadata": {
  "kernelspec": {
   "display_name": "me592",
   "language": "python",
   "name": "me592"
  },
  "language_info": {
   "codemirror_mode": {
    "name": "ipython",
    "version": 3
   },
   "file_extension": ".py",
   "mimetype": "text/x-python",
   "name": "python",
   "nbconvert_exporter": "python",
   "pygments_lexer": "ipython3",
   "version": "3.10.16"
  }
 },
 "nbformat": 4,
 "nbformat_minor": 5
}
